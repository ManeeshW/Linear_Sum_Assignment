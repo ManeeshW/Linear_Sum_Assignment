{
 "cells": [
  {
   "cell_type": "markdown",
   "metadata": {},
   "source": [
    "![intro](Resources/cost.png)"
   ]
  },
  {
   "cell_type": "code",
   "execution_count": 3,
   "metadata": {},
   "outputs": [],
   "source": [
    "import numpy as np\n",
    "\n",
    "from ortools.graph.python import linear_sum_assignment"
   ]
  },
  {
   "cell_type": "code",
   "execution_count": 4,
   "metadata": {},
   "outputs": [
    {
     "name": "stdout",
     "output_type": "stream",
     "text": [
      "[0 0 0 0 1 1 1 1 2 2 2 2 3 3 3 3] \n",
      " [0 1 2 3 0 1 2 3 0 1 2 3 0 1 2 3] \n",
      " [ 90  76  75  70  35  85  55  65 125  95  90 105  45 110  95 115]\n"
     ]
    }
   ],
   "source": [
    "costs = np.array([[90, 76, 75, 70],\n",
    "                  [35, 85, 55, 65],\n",
    "                  [125, 95, 90, 105],\n",
    "                  [45, 110, 95, 115],])\n",
    "\n",
    "# Let's transform this into 3 parallel vectors (start_nodes, end_nodes,\n",
    "# arc_costs)\n",
    "end_nodes_unraveled, start_nodes_unraveled = np.meshgrid(\n",
    "    np.arange(costs.shape[1]), np.arange(costs.shape[0])\n",
    ")\n",
    "start_nodes = start_nodes_unraveled.ravel()\n",
    "end_nodes = end_nodes_unraveled.ravel()\n",
    "arc_costs = costs.ravel()\n",
    "\n",
    "print(start_nodes,\"\\n\", end_nodes,\"\\n\", arc_costs)"
   ]
  },
  {
   "cell_type": "markdown",
   "metadata": {},
   "source": [
    "### Create the solver\n",
    "\n",
    "The program uses the linear assignment solver, a specialized solver for the assignment problem.\n",
    "\n",
    "The following code creates the solver."
   ]
  },
  {
   "cell_type": "code",
   "execution_count": 5,
   "metadata": {},
   "outputs": [],
   "source": [
    "assignment = linear_sum_assignment.SimpleLinearSumAssignment()"
   ]
  },
  {
   "cell_type": "markdown",
   "metadata": {},
   "source": [
    "### Add the constraints\n",
    "The following code adds the costs to the solver by looping over workers and tasks."
   ]
  },
  {
   "cell_type": "code",
   "execution_count": 6,
   "metadata": {},
   "outputs": [
    {
     "data": {
      "text/plain": [
       "array([ 0,  1,  2,  3,  4,  5,  6,  7,  8,  9, 10, 11, 12, 13, 14, 15],\n",
       "      dtype=int32)"
      ]
     },
     "execution_count": 6,
     "metadata": {},
     "output_type": "execute_result"
    }
   ],
   "source": [
    "assignment.add_arcs_with_cost(start_nodes, end_nodes, arc_costs)"
   ]
  },
  {
   "cell_type": "markdown",
   "metadata": {},
   "source": [
    "### Invoke the solver"
   ]
  },
  {
   "cell_type": "code",
   "execution_count": 7,
   "metadata": {},
   "outputs": [],
   "source": [
    "status = assignment.solve()"
   ]
  },
  {
   "cell_type": "markdown",
   "metadata": {},
   "source": [
    "### Display the results"
   ]
  },
  {
   "cell_type": "code",
   "execution_count": 15,
   "metadata": {},
   "outputs": [
    {
     "name": "stdout",
     "output_type": "stream",
     "text": [
      "Total cost = 265\n",
      "\n",
      "Worker 0 assigned to task 3.  Cost = 70\n",
      "Worker 1 assigned to task 2.  Cost = 55\n",
      "Worker 2 assigned to task 1.  Cost = 95\n",
      "Worker 3 assigned to task 0.  Cost = 45\n",
      "[70 55 95 45]\n",
      "265\n"
     ]
    }
   ],
   "source": [
    "if status == assignment.OPTIMAL:\n",
    "    print(f\"Total cost = {assignment.optimal_cost()}\\n\")\n",
    "    for i in range(0, assignment.num_nodes()):\n",
    "        print(\n",
    "            f\"Worker {i} assigned to task {assignment.right_mate(i)}.\"\n",
    "            + f\"  Cost = {assignment.assignment_cost(i)}\"\n",
    "        )\n",
    "elif status == assignment.INFEASIBLE:\n",
    "    print(\"No assignment is possible.\")\n",
    "elif status == assignment.POSSIBLE_OVERFLOW:\n",
    "    print(\"Some input costs are too large and may cause an integer overflow.\")\n",
    "    \n",
    "print(np.array([assignment.assignment_cost(i) for i in range(4)]))\n",
    "print(np.array([assignment.assignment_cost(i) for i in range(4)]).sum())"
   ]
  },
  {
   "cell_type": "markdown",
   "metadata": {},
   "source": [
    "![intro](Resources/linear_assignment.svg)"
   ]
  },
  {
   "cell_type": "markdown",
   "metadata": {},
   "source": [
    "### Change cost matrics"
   ]
  },
  {
   "cell_type": "code",
   "execution_count": null,
   "metadata": {},
   "outputs": [
    {
     "name": "stdout",
     "output_type": "stream",
     "text": [
      "[0 0 0 0 1 1 1 1 2 2 2 2 3 3 3 3] \n",
      " [0 1 2 3 0 1 2 3 0 1 2 3 0 1 2 3] \n",
      " [ 90  76  75  70  35  85  55  65 125  95  90 105  45 110  95 115]\n",
      "Total cost = 265\n",
      "\n",
      "Worker 0 assigned to task 3.  Cost = 70\n",
      "Worker 1 assigned to task 2.  Cost = 55\n",
      "Worker 2 assigned to task 1.  Cost = 95\n",
      "Worker 3 assigned to task 0.  Cost = 45\n"
     ]
    }
   ],
   "source": [
    "cost = np.array([[90, 76, 'NA', 'NA'],\n",
    "        [35, 85, 'NA', 'NA'],\n",
    "        [125, 95, 'NA','NA'],\n",
    "        [45, 110, 95, 115]])\n",
    "\n",
    "\n",
    "\n",
    "# Let's transform this into 3 parallel vectors (start_nodes, end_nodes,\n",
    "# arc_costs)\n",
    "end_nodes_unraveled, start_nodes_unraveled = np.meshgrid(\n",
    "    np.arange(costs.shape[1]), np.arange(costs.shape[0])\n",
    ")\n",
    "start_nodes = start_nodes_unraveled.ravel()\n",
    "end_nodes = end_nodes_unraveled.ravel()\n",
    "arc_costs = costs.ravel()\n",
    "\n",
    "print(start_nodes,\"\\n\", end_nodes,\"\\n\", arc_costs)\n",
    "\n",
    "assignment = linear_sum_assignment.SimpleLinearSumAssignment()\n",
    "assignment.add_arcs_with_cost(start_nodes, end_nodes, arc_costs)\n",
    "status = assignment.solve()\n",
    "\n",
    "if status == assignment.OPTIMAL:\n",
    "    print(f\"Total cost = {assignment.optimal_cost()}\\n\")\n",
    "    for i in range(0, assignment.num_nodes()):\n",
    "        print(\n",
    "            f\"Worker {i} assigned to task {assignment.right_mate(i)}.\"\n",
    "            + f\"  Cost = {assignment.assignment_cost(i)}\"\n",
    "        )\n",
    "elif status == assignment.INFEASIBLE:\n",
    "    print(\"No assignment is possible.\")\n",
    "elif status == assignment.POSSIBLE_OVERFLOW:\n",
    "    print(\"Some input costs are too large and may cause an integer overflow.\")"
   ]
  },
  {
   "cell_type": "markdown",
   "metadata": {},
   "source": [
    "![intro](Resources/linear_assignment_solution.svg)"
   ]
  }
 ],
 "metadata": {
  "kernelspec": {
   "display_name": "MW",
   "language": "python",
   "name": "python3"
  },
  "language_info": {
   "codemirror_mode": {
    "name": "ipython",
    "version": 3
   },
   "file_extension": ".py",
   "mimetype": "text/x-python",
   "name": "python",
   "nbconvert_exporter": "python",
   "pygments_lexer": "ipython3",
   "version": "3.10.6"
  },
  "orig_nbformat": 4
 },
 "nbformat": 4,
 "nbformat_minor": 2
}
